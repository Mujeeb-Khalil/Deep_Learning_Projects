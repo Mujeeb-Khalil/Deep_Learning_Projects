{
  "nbformat": 4,
  "nbformat_minor": 0,
  "metadata": {
    "colab": {
      "name": "Fashion_Mnist_Using_CNN.ipynb",
      "provenance": []
    },
    "kernelspec": {
      "display_name": "Python 3",
      "name": "python3"
    },
    "language_info": {
      "name": "python"
    },
    "accelerator": "GPU"
  },
  "cells": [
    {
      "cell_type": "markdown",
      "metadata": {
        "id": "J0fr2mJ7RpXE"
      },
      "source": [
        "# Importing the Libraries"
      ]
    },
    {
      "cell_type": "code",
      "metadata": {
        "id": "OgGmfwRwd8CB"
      },
      "source": [
        "import numpy as np\n",
        "import pandas as pd\n",
        "import tensorflow as tf\n",
        "from tensorflow.keras import layers\n",
        "from tensorflow.keras.models import Sequential\n",
        "import matplotlib.pyplot as plt\n",
        "import cv2\n",
        "from tensorflow.keras.datasets import fashion_mnist\n",
        "from tensorflow.keras.optimizers import RMSprop"
      ],
      "execution_count": 34,
      "outputs": []
    },
    {
      "cell_type": "markdown",
      "metadata": {
        "id": "h8nGzC2yRuc3"
      },
      "source": [
        "# Loading the Dataset"
      ]
    },
    {
      "cell_type": "code",
      "metadata": {
        "id": "oA05kM-yivEF"
      },
      "source": [
        "(X_train,Y_train),(X_test,Y_test) = fashion_mnist.load_data()"
      ],
      "execution_count": 35,
      "outputs": []
    },
    {
      "cell_type": "markdown",
      "metadata": {
        "id": "QCNV0WniSBvn"
      },
      "source": [
        "# Normalizing the Data"
      ]
    },
    {
      "cell_type": "code",
      "metadata": {
        "id": "hczSLA_ykHsQ"
      },
      "source": [
        "X_train = X_train.reshape(60000,28,28,1)/255.0\n",
        "X_test = X_test.reshape(10000,28,28,1)/255.0"
      ],
      "execution_count": 36,
      "outputs": []
    },
    {
      "cell_type": "markdown",
      "metadata": {
        "id": "B6MzVMXHSFU6"
      },
      "source": [
        "# Creating a Model"
      ]
    },
    {
      "cell_type": "code",
      "metadata": {
        "id": "6eYibahhkJ64"
      },
      "source": [
        "model = Sequential()\n",
        "model.add(layers.Conv2D(64,(3,3),activation = \"relu\",input_shape = (28,28,1)))\n",
        "model.add(layers.MaxPooling2D(2,2))\n",
        "model.add(layers.Conv2D(64,(3,3),activation = \"relu\"))\n",
        "model.add(layers.MaxPooling2D(2,2))\n",
        "model.add(layers.Flatten())\n",
        "model.add(layers.Dense(64,activation = \"relu\"))\n",
        "model.add(layers.Dense(10,activation = \"softmax\"))"
      ],
      "execution_count": 37,
      "outputs": []
    },
    {
      "cell_type": "markdown",
      "metadata": {
        "id": "dSCYWunubaz3"
      },
      "source": [
        ""
      ]
    },
    {
      "cell_type": "markdown",
      "metadata": {
        "id": "G4GfDpUsSIt4"
      },
      "source": [
        "# Compiling the Model"
      ]
    },
    {
      "cell_type": "code",
      "metadata": {
        "id": "51Bn72dXkzff"
      },
      "source": [
        "model.compile(optimizer=RMSprop(lr = 0.001),loss = \"sparse_categorical_crossentropy\",metrics = [\"accuracy\"])"
      ],
      "execution_count": 38,
      "outputs": []
    },
    {
      "cell_type": "markdown",
      "metadata": {
        "id": "l8etLTSFSMYN"
      },
      "source": [
        "# Fitting the Data"
      ]
    },
    {
      "cell_type": "code",
      "metadata": {
        "colab": {
          "base_uri": "https://localhost:8080/"
        },
        "id": "fsKgSVT-lZBm",
        "outputId": "cfbebb89-7584-4470-b651-a5144b09a8fb"
      },
      "source": [
        "model.fit(X_train,Y_train,epochs = 30,batch_size= 128)"
      ],
      "execution_count": 39,
      "outputs": [
        {
          "output_type": "stream",
          "text": [
            "Epoch 1/30\n",
            "469/469 [==============================] - 4s 6ms/step - loss: 0.8011 - accuracy: 0.7091\n",
            "Epoch 2/30\n",
            "469/469 [==============================] - 3s 6ms/step - loss: 0.3668 - accuracy: 0.8669\n",
            "Epoch 3/30\n",
            "469/469 [==============================] - 3s 6ms/step - loss: 0.3041 - accuracy: 0.8885\n",
            "Epoch 4/30\n",
            "469/469 [==============================] - 3s 6ms/step - loss: 0.2693 - accuracy: 0.8998\n",
            "Epoch 5/30\n",
            "469/469 [==============================] - 3s 6ms/step - loss: 0.2477 - accuracy: 0.9083\n",
            "Epoch 6/30\n",
            "469/469 [==============================] - 3s 6ms/step - loss: 0.2221 - accuracy: 0.9186\n",
            "Epoch 7/30\n",
            "469/469 [==============================] - 3s 6ms/step - loss: 0.2056 - accuracy: 0.9249\n",
            "Epoch 8/30\n",
            "469/469 [==============================] - 3s 6ms/step - loss: 0.1928 - accuracy: 0.9296\n",
            "Epoch 9/30\n",
            "469/469 [==============================] - 3s 6ms/step - loss: 0.1784 - accuracy: 0.9347\n",
            "Epoch 10/30\n",
            "469/469 [==============================] - 3s 6ms/step - loss: 0.1639 - accuracy: 0.9392\n",
            "Epoch 11/30\n",
            "469/469 [==============================] - 3s 6ms/step - loss: 0.1499 - accuracy: 0.9441\n",
            "Epoch 12/30\n",
            "469/469 [==============================] - 3s 6ms/step - loss: 0.1406 - accuracy: 0.9480\n",
            "Epoch 13/30\n",
            "469/469 [==============================] - 3s 6ms/step - loss: 0.1305 - accuracy: 0.9524\n",
            "Epoch 14/30\n",
            "469/469 [==============================] - 3s 6ms/step - loss: 0.1222 - accuracy: 0.9543\n",
            "Epoch 15/30\n",
            "469/469 [==============================] - 3s 6ms/step - loss: 0.1119 - accuracy: 0.9585\n",
            "Epoch 16/30\n",
            "469/469 [==============================] - 3s 6ms/step - loss: 0.1013 - accuracy: 0.9622\n",
            "Epoch 17/30\n",
            "469/469 [==============================] - 3s 6ms/step - loss: 0.0970 - accuracy: 0.9651\n",
            "Epoch 18/30\n",
            "469/469 [==============================] - 3s 6ms/step - loss: 0.0891 - accuracy: 0.9684\n",
            "Epoch 19/30\n",
            "469/469 [==============================] - 3s 6ms/step - loss: 0.0822 - accuracy: 0.9706\n",
            "Epoch 20/30\n",
            "469/469 [==============================] - 3s 6ms/step - loss: 0.0747 - accuracy: 0.9731\n",
            "Epoch 21/30\n",
            "469/469 [==============================] - 3s 6ms/step - loss: 0.0705 - accuracy: 0.9738\n",
            "Epoch 22/30\n",
            "469/469 [==============================] - 3s 6ms/step - loss: 0.0670 - accuracy: 0.9759\n",
            "Epoch 23/30\n",
            "469/469 [==============================] - 3s 6ms/step - loss: 0.0586 - accuracy: 0.9802\n",
            "Epoch 24/30\n",
            "469/469 [==============================] - 3s 6ms/step - loss: 0.0583 - accuracy: 0.9793\n",
            "Epoch 25/30\n",
            "469/469 [==============================] - 3s 6ms/step - loss: 0.0537 - accuracy: 0.9798\n",
            "Epoch 26/30\n",
            "469/469 [==============================] - 3s 6ms/step - loss: 0.0494 - accuracy: 0.9820\n",
            "Epoch 27/30\n",
            "469/469 [==============================] - 3s 6ms/step - loss: 0.0450 - accuracy: 0.9840\n",
            "Epoch 28/30\n",
            "469/469 [==============================] - 3s 6ms/step - loss: 0.0442 - accuracy: 0.9844\n",
            "Epoch 29/30\n",
            "469/469 [==============================] - 3s 6ms/step - loss: 0.0381 - accuracy: 0.9855\n",
            "Epoch 30/30\n",
            "469/469 [==============================] - 3s 6ms/step - loss: 0.0347 - accuracy: 0.9869\n"
          ],
          "name": "stdout"
        },
        {
          "output_type": "execute_result",
          "data": {
            "text/plain": [
              "<tensorflow.python.keras.callbacks.History at 0x7f4c12274c90>"
            ]
          },
          "metadata": {
            "tags": []
          },
          "execution_count": 39
        }
      ]
    },
    {
      "cell_type": "markdown",
      "metadata": {
        "id": "0QMrRO9mSTSW"
      },
      "source": [
        "# Evaluating the Model on test Data set"
      ]
    },
    {
      "cell_type": "code",
      "metadata": {
        "id": "N2hBZAsQldUc",
        "colab": {
          "base_uri": "https://localhost:8080/"
        },
        "outputId": "4e12c479-3b49-48ac-fa4a-36a0bdab8307"
      },
      "source": [
        "model.evaluate(X_test,Y_test)"
      ],
      "execution_count": 40,
      "outputs": [
        {
          "output_type": "stream",
          "text": [
            "313/313 [==============================] - 1s 2ms/step - loss: 0.5043 - accuracy: 0.9103\n"
          ],
          "name": "stdout"
        },
        {
          "output_type": "execute_result",
          "data": {
            "text/plain": [
              "[0.5042542219161987, 0.9103000164031982]"
            ]
          },
          "metadata": {
            "tags": []
          },
          "execution_count": 40
        }
      ]
    },
    {
      "cell_type": "markdown",
      "metadata": {
        "id": "UPpM4S4PSZ-3"
      },
      "source": [
        "# Looking at some pictures in dataset"
      ]
    },
    {
      "cell_type": "code",
      "metadata": {
        "colab": {
          "base_uri": "https://localhost:8080/",
          "height": 1000
        },
        "id": "TyrlI4T9jMNi",
        "outputId": "dab49476-ff21-48f7-cd2e-64951e1dd21d"
      },
      "source": [
        "for i in [0,1, 30, 50, 100, 134, 590 , 1000 , 9987]:\n",
        "  Map_dictionary = {0: \"T-shirt/top\", 1: \"Trouser\", 2: \"Pullover\", 3: \"Dress\", 4: \"Coat\", 5: \"Sandal\" , 6: \"Shirt\",7: \"Sneaker\", 8: \"Bag\", 9: \"Ankle Boot\"}\n",
        "  image = X_test[i,:].reshape(28,28)\n",
        "  plt.imshow(image)\n",
        "  plt.show()\n",
        "  predict = model.predict(X_test)\n",
        "  print(\"It is \"+Map_dictionary[Y_test[i]] + \" and model predicted it as a \" + Map_dictionary[np.argmax(predict[i])])\n"
      ],
      "execution_count": 65,
      "outputs": [
        {
          "output_type": "display_data",
          "data": {
            "image/png": "[encoded data removed]",
            "text/plain": [
              "<Figure size 432x288 with 1 Axes>"
            ]
          },
          "metadata": {
            "tags": [],
            "needs_background": "light"
          }
        },
        {
          "output_type": "stream",
          "text": [
            "It is Ankle Boot and model predicted it as a Ankle Boot\n"
          ],
          "name": "stdout"
        },
        {
          "output_type": "display_data",
          "data": {
            "image/png": "[encoded data removed]",
            "text/plain": [
              "<Figure size 432x288 with 1 Axes>"
            ]
          },
          "metadata": {
            "tags": [],
            "needs_background": "light"
          }
        },
        {
          "output_type": "stream",
          "text": [
            "It is Pullover and model predicted it as a Pullover\n"
          ],
          "name": "stdout"
        },
        {
          "output_type": "display_data",
          "data": {
            "image/png": "[encoded data removed]",
            "text/plain": [
              "<Figure size 432x288 with 1 Axes>"
            ]
          },
          "metadata": {
            "tags": [],
            "needs_background": "light"
          }
        },
        {
          "output_type": "stream",
          "text": [
            "It is Bag and model predicted it as a Bag\n"
          ],
          "name": "stdout"
        },
        {
          "output_type": "display_data",
          "data": {
            "image/png": "[encoded data removed]",
            "text/plain": [
              "<Figure size 432x288 with 1 Axes>"
            ]
          },
          "metadata": {
            "tags": [],
            "needs_background": "light"
          }
        },
        {
          "output_type": "stream",
          "text": [
            "It is Coat and model predicted it as a Coat\n"
          ],
          "name": "stdout"
        },
        {
          "output_type": "display_data",
          "data": {
            "image/png": "[encoded data removed]",
            "text/plain": [
              "<Figure size 432x288 with 1 Axes>"
            ]
          },
          "metadata": {
            "tags": [],
            "needs_background": "light"
          }
        },
        {
          "output_type": "stream",
          "text": [
            "It is Dress and model predicted it as a Dress\n"
          ],
          "name": "stdout"
        },
        {
          "output_type": "display_data",
          "data": {
            "image/png": "[encoded data removed]",
            "text/plain": [
              "<Figure size 432x288 with 1 Axes>"
            ]
          },
          "metadata": {
            "tags": [],
            "needs_background": "light"
          }
        },
        {
          "output_type": "stream",
          "text": [
            "It is Bag and model predicted it as a Bag\n"
          ],
          "name": "stdout"
        },
        {
          "output_type": "display_data",
          "data": {
            "image/png": "[encoded data removed]",
            "text/plain": [
              "<Figure size 432x288 with 1 Axes>"
            ]
          },
          "metadata": {
            "tags": [],
            "needs_background": "light"
          }
        },
        {
          "output_type": "stream",
          "text": [
            "It is Trouser and model predicted it as a Trouser\n"
          ],
          "name": "stdout"
        },
        {
          "output_type": "display_data",
          "data": {
            "image/png": "[encoded data removed]",
            "text/plain": [
              "<Figure size 432x288 with 1 Axes>"
            ]
          },
          "metadata": {
            "tags": [],
            "needs_background": "light"
          }
        },
        {
          "output_type": "stream",
          "text": [
            "It is T-shirt/top and model predicted it as a Shirt\n"
          ],
          "name": "stdout"
        },
        {
          "output_type": "display_data",
          "data": {
            "image/png": "[encoded data removed]",
            "text/plain": [
              "<Figure size 432x288 with 1 Axes>"
            ]
          },
          "metadata": {
            "tags": [],
            "needs_background": "light"
          }
        },
        {
          "output_type": "stream",
          "text": [
            "It is Sandal and model predicted it as a Sandal\n"
          ],
          "name": "stdout"
        }
      ]
    },
    {
      "cell_type": "code",
      "metadata": {
        "id": "iKv5BcfFj_W-"
      },
      "source": [
        ""
      ],
      "execution_count": 65,
      "outputs": []
    },
    {
      "cell_type": "code",
      "metadata": {
        "id": "8AvDaJySm2w3"
      },
      "source": [
        ""
      ],
      "execution_count": null,
      "outputs": []
    }
  ]
}