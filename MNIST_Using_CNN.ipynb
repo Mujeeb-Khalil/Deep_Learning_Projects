{
  "nbformat": 4,
  "nbformat_minor": 0,
  "metadata": {
    "colab": {
      "name": "MNIST_Using_CNN.ipynb",
      "provenance": []
    },
    "kernelspec": {
      "name": "python3",
      "display_name": "Python 3"
    },
    "language_info": {
      "name": "python"
    },
    "accelerator": "GPU"
  },
  "cells": [
    {
      "cell_type": "markdown",
      "metadata": {
        "id": "2VffDA18S5bL"
      },
      "source": [
        "# Importing the Libraries"
      ]
    },
    {
      "cell_type": "code",
      "metadata": {
        "id": "NCLwSMTyR2Ea"
      },
      "source": [
        "import numpy as np\n",
        "import pandas as pd\n",
        "import matplotlib.pyplot as plt\n",
        "import tensorflow as tf\n",
        "from tensorflow.keras import layers\n",
        "from tensorflow.keras.models import Sequential\n",
        "from tensorflow.keras.datasets import mnist\n",
        "from tensorflow.keras.utils import to_categorical\n",
        "from tensorflow.keras.optimizers import RMSprop"
      ],
      "execution_count": 17,
      "outputs": []
    },
    {
      "cell_type": "markdown",
      "metadata": {
        "id": "K45kIGTcS64M"
      },
      "source": [
        "# Loading the dataset"
      ]
    },
    {
      "cell_type": "code",
      "metadata": {
        "id": "ZJC7C2tISK4I"
      },
      "source": [
        "(X_train,Y_train),(X_test,Y_test) = mnist.load_data()"
      ],
      "execution_count": 18,
      "outputs": []
    },
    {
      "cell_type": "markdown",
      "metadata": {
        "id": "gEQkk7iDS9Vm"
      },
      "source": [
        "# Shape of data"
      ]
    },
    {
      "cell_type": "code",
      "metadata": {
        "colab": {
          "base_uri": "https://localhost:8080/"
        },
        "id": "2sw8IZzYSdv9",
        "outputId": "0ec53a10-b7df-410f-c2d6-f8ac5c147c80"
      },
      "source": [
        "print(X_train.shape)\n",
        "print(X_test.shape)\n",
        "print(Y_train.shape)\n",
        "print(Y_test.shape)\n"
      ],
      "execution_count": 19,
      "outputs": [
        {
          "output_type": "stream",
          "text": [
            "(60000, 28, 28)\n",
            "(10000, 28, 28)\n",
            "(60000,)\n",
            "(10000,)\n"
          ],
          "name": "stdout"
        }
      ]
    },
    {
      "cell_type": "markdown",
      "metadata": {
        "id": "3UtGsxCQTJx5"
      },
      "source": [
        "# Normalizing the Data"
      ]
    },
    {
      "cell_type": "code",
      "metadata": {
        "id": "d3hii66nSfGy"
      },
      "source": [
        "X_train = X_train.reshape(60000,28,28,1)/255.0\n",
        "X_test = X_test.reshape(10000,28,28,1)/255.0"
      ],
      "execution_count": 21,
      "outputs": []
    },
    {
      "cell_type": "markdown",
      "metadata": {
        "id": "gPUkixHHTeHK"
      },
      "source": [
        "# Converting the Target variable into categorical variable"
      ]
    },
    {
      "cell_type": "code",
      "metadata": {
        "id": "z3xIdwHdTMPt"
      },
      "source": [
        "Y_train = to_categorical(Y_train)\n",
        "Y_test = to_categorical(Y_test)"
      ],
      "execution_count": 9,
      "outputs": []
    },
    {
      "cell_type": "markdown",
      "metadata": {
        "id": "exeY2Y0iTsxd"
      },
      "source": [
        "# Creating a Model"
      ]
    },
    {
      "cell_type": "code",
      "metadata": {
        "id": "sfXa2nrDTpSq"
      },
      "source": [
        "model = Sequential()\n",
        "model.add(layers.Conv2D(64,(3,3),activation = \"relu\",input_shape = (28,28,1)))\n",
        "model.add(layers.MaxPooling2D(2,2))\n",
        "model.add(layers.Conv2D(64,(3,3),activation = \"relu\"))\n",
        "model.add(layers.MaxPooling2D(2,2))\n",
        "model.add(layers.Flatten())\n",
        "model.add(layers.Dense(64,activation = \"relu\"))\n",
        "model.add(layers.Dense(10,activation = \"softmax\"))"
      ],
      "execution_count": 22,
      "outputs": []
    },
    {
      "cell_type": "code",
      "metadata": {
        "id": "JcHtFXH3TutG"
      },
      "source": [
        "model.compile(optimizer=RMSprop(lr = 0.001),loss = \"sparse_categorical_crossentropy\",metrics = [\"accuracy\"])"
      ],
      "execution_count": 23,
      "outputs": []
    },
    {
      "cell_type": "code",
      "metadata": {
        "colab": {
          "base_uri": "https://localhost:8080/"
        },
        "id": "1ih-f5NtTyVF",
        "outputId": "6a120dcd-844e-4eb4-acd2-3db7dce4b741"
      },
      "source": [
        "model.fit(X_train,Y_train,epochs = 30, batch_size = 128)"
      ],
      "execution_count": 24,
      "outputs": [
        {
          "output_type": "stream",
          "text": [
            "Epoch 1/30\n",
            "469/469 [==============================] - 6s 11ms/step - loss: 1.8205 - accuracy: 0.3811\n",
            "Epoch 2/30\n",
            "469/469 [==============================] - 5s 11ms/step - loss: 0.4321 - accuracy: 0.8678\n",
            "Epoch 3/30\n",
            "469/469 [==============================] - 5s 10ms/step - loss: 0.2828 - accuracy: 0.9146\n",
            "Epoch 4/30\n",
            "469/469 [==============================] - 5s 10ms/step - loss: 0.1841 - accuracy: 0.9443\n",
            "Epoch 5/30\n",
            "469/469 [==============================] - 5s 10ms/step - loss: 0.1280 - accuracy: 0.9617\n",
            "Epoch 6/30\n",
            "469/469 [==============================] - 5s 10ms/step - loss: 0.1012 - accuracy: 0.9693\n",
            "Epoch 7/30\n",
            "469/469 [==============================] - 5s 10ms/step - loss: 0.0837 - accuracy: 0.9744\n",
            "Epoch 8/30\n",
            "469/469 [==============================] - 5s 10ms/step - loss: 0.0727 - accuracy: 0.9765\n",
            "Epoch 9/30\n",
            "469/469 [==============================] - 5s 10ms/step - loss: 0.0663 - accuracy: 0.9798\n",
            "Epoch 10/30\n",
            "469/469 [==============================] - 5s 10ms/step - loss: 0.0572 - accuracy: 0.9821\n",
            "Epoch 11/30\n",
            "469/469 [==============================] - 5s 11ms/step - loss: 0.0529 - accuracy: 0.9836\n",
            "Epoch 12/30\n",
            "469/469 [==============================] - 5s 11ms/step - loss: 0.0472 - accuracy: 0.9854\n",
            "Epoch 13/30\n",
            "469/469 [==============================] - 5s 11ms/step - loss: 0.0439 - accuracy: 0.9861\n",
            "Epoch 14/30\n",
            "469/469 [==============================] - 5s 10ms/step - loss: 0.0436 - accuracy: 0.9868\n",
            "Epoch 15/30\n",
            "469/469 [==============================] - 5s 10ms/step - loss: 0.0362 - accuracy: 0.9892\n",
            "Epoch 16/30\n",
            "469/469 [==============================] - 5s 10ms/step - loss: 0.0327 - accuracy: 0.9897\n",
            "Epoch 17/30\n",
            "469/469 [==============================] - 5s 10ms/step - loss: 0.0318 - accuracy: 0.9901\n",
            "Epoch 18/30\n",
            "469/469 [==============================] - 5s 10ms/step - loss: 0.0288 - accuracy: 0.9907\n",
            "Epoch 19/30\n",
            "469/469 [==============================] - 5s 10ms/step - loss: 0.0265 - accuracy: 0.9920\n",
            "Epoch 20/30\n",
            "469/469 [==============================] - 5s 10ms/step - loss: 0.0274 - accuracy: 0.9917\n",
            "Epoch 21/30\n",
            "469/469 [==============================] - 5s 11ms/step - loss: 0.0241 - accuracy: 0.9928\n",
            "Epoch 22/30\n",
            "469/469 [==============================] - 5s 10ms/step - loss: 0.0226 - accuracy: 0.9930\n",
            "Epoch 23/30\n",
            "469/469 [==============================] - 5s 10ms/step - loss: 0.0226 - accuracy: 0.9931\n",
            "Epoch 24/30\n",
            "469/469 [==============================] - 5s 10ms/step - loss: 0.0186 - accuracy: 0.9944\n",
            "Epoch 25/30\n",
            "469/469 [==============================] - 5s 10ms/step - loss: 0.0178 - accuracy: 0.9944\n",
            "Epoch 26/30\n",
            "469/469 [==============================] - 5s 11ms/step - loss: 0.0179 - accuracy: 0.9946\n",
            "Epoch 27/30\n",
            "469/469 [==============================] - 5s 11ms/step - loss: 0.0157 - accuracy: 0.9945\n",
            "Epoch 28/30\n",
            "469/469 [==============================] - 5s 11ms/step - loss: 0.0137 - accuracy: 0.9953\n",
            "Epoch 29/30\n",
            "469/469 [==============================] - 5s 10ms/step - loss: 0.0136 - accuracy: 0.9955\n",
            "Epoch 30/30\n",
            "469/469 [==============================] - 5s 10ms/step - loss: 0.0126 - accuracy: 0.9960\n"
          ],
          "name": "stdout"
        },
        {
          "output_type": "execute_result",
          "data": {
            "text/plain": [
              "<tensorflow.python.keras.callbacks.History at 0x7f1a7a6de2d0>"
            ]
          },
          "metadata": {
            "tags": []
          },
          "execution_count": 24
        }
      ]
    },
    {
      "cell_type": "markdown",
      "metadata": {
        "id": "51FCl07CUjgO"
      },
      "source": [
        "# Evaluating the Model on test Data set"
      ]
    },
    {
      "cell_type": "code",
      "metadata": {
        "colab": {
          "base_uri": "https://localhost:8080/"
        },
        "id": "AtyRX5DbUHxD",
        "outputId": "094176d1-d0c5-46f9-95d4-40939ed24893"
      },
      "source": [
        "model.evaluate(X_test,Y_test)"
      ],
      "execution_count": 25,
      "outputs": [
        {
          "output_type": "stream",
          "text": [
            "313/313 [==============================] - 1s 4ms/step - loss: 0.0462 - accuracy: 0.9870\n"
          ],
          "name": "stdout"
        },
        {
          "output_type": "execute_result",
          "data": {
            "text/plain": [
              "[0.04616699367761612, 0.9869999885559082]"
            ]
          },
          "metadata": {
            "tags": []
          },
          "execution_count": 25
        }
      ]
    },
    {
      "cell_type": "markdown",
      "metadata": {
        "id": "MKsXTnleUthv"
      },
      "source": [
        "# Looking at some pictures in dataset"
      ]
    },
    {
      "cell_type": "code",
      "metadata": {
        "colab": {
          "base_uri": "https://localhost:8080/",
          "height": 1000
        },
        "id": "HCXnT6YMUo7h",
        "outputId": "09d0308a-220c-4cfe-d307-ddb57cc78adc"
      },
      "source": [
        "for i in [0,1, 20, 70, 109, 134, 598 , 1006 , 9988]:\n",
        "  Map_dictionary = {0: \"Zero\", 1: \"One\", 2: \"Two\", 3: \"Three\", 4: \"Four\", 5: \"Five\" , 6: \"Six\",7: \"Seven\", 8: \"Eight\", 9: \"Nine\"}\n",
        "  image = X_test[i,:].reshape(28,28)\n",
        "  plt.imshow(image)\n",
        "  plt.show()\n",
        "  predict = model.predict(X_test)\n",
        "  print(\"It is \"+Map_dictionary[Y_test[i]] + \" and model predicted it as a \" + Map_dictionary[np.argmax(predict[i])])\n"
      ],
      "execution_count": 27,
      "outputs": [
        {
          "output_type": "display_data",
          "data": {
            "image/png": "[encoded data removed]",
            "text/plain": [
              "<Figure size 432x288 with 1 Axes>"
            ]
          },
          "metadata": {
            "tags": [],
            "needs_background": "light"
          }
        },
        {
          "output_type": "stream",
          "text": [
            "It is Seven and model predicted it as a Seven\n"
          ],
          "name": "stdout"
        },
        {
          "output_type": "display_data",
          "data": {
            "image/png": "[encoded data removed]",
            "text/plain": [
              "<Figure size 432x288 with 1 Axes>"
            ]
          },
          "metadata": {
            "tags": [],
            "needs_background": "light"
          }
        },
        {
          "output_type": "stream",
          "text": [
            "It is Two and model predicted it as a Two\n"
          ],
          "name": "stdout"
        },
        {
          "output_type": "display_data",
          "data": {
            "image/png": "[encoded data removed]",
            "text/plain": [
              "<Figure size 432x288 with 1 Axes>"
            ]
          },
          "metadata": {
            "tags": [],
            "needs_background": "light"
          }
        },
        {
          "output_type": "stream",
          "text": [
            "It is Nine and model predicted it as a Nine\n"
          ],
          "name": "stdout"
        },
        {
          "output_type": "display_data",
          "data": {
            "image/png": "[encoded data removed]",
            "text/plain": [
              "<Figure size 432x288 with 1 Axes>"
            ]
          },
          "metadata": {
            "tags": [],
            "needs_background": "light"
          }
        },
        {
          "output_type": "stream",
          "text": [
            "It is Seven and model predicted it as a Seven\n"
          ],
          "name": "stdout"
        },
        {
          "output_type": "display_data",
          "data": {
            "image/png": "[encoded data removed]",
            "text/plain": [
              "<Figure size 432x288 with 1 Axes>"
            ]
          },
          "metadata": {
            "tags": [],
            "needs_background": "light"
          }
        },
        {
          "output_type": "stream",
          "text": [
            "It is Four and model predicted it as a Four\n"
          ],
          "name": "stdout"
        },
        {
          "output_type": "display_data",
          "data": {
            "image/png": "[encoded data removed]",
            "text/plain": [
              "<Figure size 432x288 with 1 Axes>"
            ]
          },
          "metadata": {
            "tags": [],
            "needs_background": "light"
          }
        },
        {
          "output_type": "stream",
          "text": [
            "It is Eight and model predicted it as a Eight\n"
          ],
          "name": "stdout"
        },
        {
          "output_type": "display_data",
          "data": {
            "image/png": "[encoded data removed]",
            "text/plain": [
              "<Figure size 432x288 with 1 Axes>"
            ]
          },
          "metadata": {
            "tags": [],
            "needs_background": "light"
          }
        },
        {
          "output_type": "stream",
          "text": [
            "It is Nine and model predicted it as a Nine\n"
          ],
          "name": "stdout"
        },
        {
          "output_type": "display_data",
          "data": {
            "image/png": "[encoded data removed]",
            "text/plain": [
              "<Figure size 432x288 with 1 Axes>"
            ]
          },
          "metadata": {
            "tags": [],
            "needs_background": "light"
          }
        },
        {
          "output_type": "stream",
          "text": [
            "It is Seven and model predicted it as a Seven\n"
          ],
          "name": "stdout"
        },
        {
          "output_type": "display_data",
          "data": {
            "image/png": "[encoded data removed]",
            "text/plain": [
              "<Figure size 432x288 with 1 Axes>"
            ]
          },
          "metadata": {
            "tags": [],
            "needs_background": "light"
          }
        },
        {
          "output_type": "stream",
          "text": [
            "It is Five and model predicted it as a Five\n"
          ],
          "name": "stdout"
        }
      ]
    },
    {
      "cell_type": "code",
      "metadata": {
        "id": "5uTrfyExU_fm"
      },
      "source": [
        ""
      ],
      "execution_count": null,
      "outputs": []
    }
  ]
}